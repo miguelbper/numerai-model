{
 "cells": [
  {
   "cell_type": "markdown",
   "metadata": {},
   "source": [
    "# Imports"
   ]
  },
  {
   "cell_type": "code",
   "execution_count": 54,
   "metadata": {},
   "outputs": [],
   "source": [
    "# Numerai API\n",
    "from numerapi import NumerAPI\n",
    "\n",
    "# data\n",
    "import matplotlib.pyplot as plt\n",
    "import pandas as pd\n",
    "import numpy as np\n",
    "\n",
    "# stats\n",
    "from scipy.stats import spearmanr\n",
    "from sklearn.metrics import r2_score, mean_squared_error\n",
    "\n",
    "# machine learning models\n",
    "from sklearn.base import BaseEstimator\n",
    "from sklearn.utils.validation import check_X_y, check_array, check_is_fitted\n",
    "from sklearn.linear_model import LinearRegression\n",
    "from sklearn.model_selection import GridSearchCV\n",
    "from xgboost import XGBRegressor\n",
    "from lightgbm import LGBMRegressor\n",
    "\n",
    "# other\n",
    "import gc\n",
    "import json\n",
    "from tqdm import trange\n",
    "from itertools import product\n",
    "import functools\n",
    "import random\n",
    "from timeit import default_timer\n",
    "import re\n",
    "import time\n",
    "from pprint import pprint\n",
    "from copy import deepcopy\n",
    "from varname import nameof\n",
    "from datetime import datetime\n",
    "\n",
    "# save variables\n",
    "import pickle\n",
    "import joblib\n",
    "\n",
    "# my utils\n",
    "from utils import rank_pct, numerai_score, exposure"
   ]
  },
  {
   "cell_type": "markdown",
   "metadata": {},
   "source": [
    "# Download data"
   ]
  },
  {
   "cell_type": "code",
   "execution_count": 55,
   "metadata": {},
   "outputs": [
    {
     "name": "stderr",
     "output_type": "stream",
     "text": [
      "2022-07-30 15:22:52,794 INFO numerapi.utils: target file already exists\n",
      "2022-07-30 15:22:52,797 INFO numerapi.utils: download complete\n",
      "2022-07-30 15:22:53,884 INFO numerapi.utils: target file already exists\n",
      "2022-07-30 15:22:53,887 INFO numerapi.utils: download complete\n"
     ]
    }
   ],
   "source": [
    "napi = NumerAPI()\n",
    "round = napi.get_current_round()\n",
    "\n",
    "# filenames = napi.list_datasets()\n",
    "\n",
    "napi.download_dataset('v4/live.parquet', f'v4/live_{round}.parquet')\n",
    "napi.download_dataset('v4/live_int8.parquet', f'v4/live_int8_{round}.parquet')"
   ]
  },
  {
   "cell_type": "markdown",
   "metadata": {},
   "source": [
    "# Features\n",
    "\n",
    "- feature sets: `all`, `small`, `medium`, `v2_equivalent_features`, `v3_equivalent_features`, `fncv3_features`\n",
    "- feature groups: `features_all[0:210]`, `features_all[210:420]`, `features_all[420:630]`, `features_all[630:840]`, `features_all[840:1050]`, `features_all[1050:1191]`"
   ]
  },
  {
   "cell_type": "code",
   "execution_count": 56,
   "metadata": {},
   "outputs": [
    {
     "data": {
      "text/html": [
       "<div>\n",
       "<style scoped>\n",
       "    .dataframe tbody tr th:only-of-type {\n",
       "        vertical-align: middle;\n",
       "    }\n",
       "\n",
       "    .dataframe tbody tr th {\n",
       "        vertical-align: top;\n",
       "    }\n",
       "\n",
       "    .dataframe thead th {\n",
       "        text-align: right;\n",
       "    }\n",
       "</style>\n",
       "<table border=\"1\" class=\"dataframe\">\n",
       "  <thead>\n",
       "    <tr style=\"text-align: right;\">\n",
       "      <th></th>\n",
       "      <th>feature_honoured_observational_balaamite</th>\n",
       "      <th>feature_polaroid_vadose_quinze</th>\n",
       "      <th>feature_untidy_withdrawn_bargeman</th>\n",
       "      <th>feature_genuine_kyphotic_trehala</th>\n",
       "      <th>feature_unenthralled_sportful_schoolhouse</th>\n",
       "      <th>feature_divulsive_explanatory_ideologue</th>\n",
       "      <th>feature_ichthyotic_roofed_yeshiva</th>\n",
       "      <th>feature_waggly_outlandish_carbonisation</th>\n",
       "      <th>feature_floriated_amish_sprite</th>\n",
       "      <th>feature_iconoclastic_parietal_agonist</th>\n",
       "      <th>...</th>\n",
       "      <th>feature_circumspective_daughterly_brubeck</th>\n",
       "      <th>feature_mimetic_sprawly_flue</th>\n",
       "      <th>feature_inductile_umbrian_wallah</th>\n",
       "      <th>feature_ineloquent_bihari_brougham</th>\n",
       "      <th>feature_shakespearean_alpha_constituent</th>\n",
       "      <th>feature_marxian_plated_refrigeration</th>\n",
       "      <th>feature_amative_irresponsive_flattie</th>\n",
       "      <th>feature_intermissive_coronal_reinsertion</th>\n",
       "      <th>feature_dwarfish_isochronal_amateur</th>\n",
       "      <th>feature_polyphyletic_unplumed_pandiculation</th>\n",
       "    </tr>\n",
       "  </thead>\n",
       "  <tbody>\n",
       "    <tr>\n",
       "      <th>legacy_uniqueness</th>\n",
       "      <td>0.177814</td>\n",
       "      <td>0.241351</td>\n",
       "      <td>0.659092</td>\n",
       "      <td>0.234994</td>\n",
       "      <td>0.471051</td>\n",
       "      <td>0.608926</td>\n",
       "      <td>0.220884</td>\n",
       "      <td>0.671897</td>\n",
       "      <td>0.878900</td>\n",
       "      <td>0.174533</td>\n",
       "      <td>...</td>\n",
       "      <td>0.777375</td>\n",
       "      <td>0.788337</td>\n",
       "      <td>0.798391</td>\n",
       "      <td>0.777608</td>\n",
       "      <td>0.781240</td>\n",
       "      <td>0.801397</td>\n",
       "      <td>0.812955</td>\n",
       "      <td>0.824060</td>\n",
       "      <td>0.793313</td>\n",
       "      <td>0.806686</td>\n",
       "    </tr>\n",
       "    <tr>\n",
       "      <th>spearman_corr_w_target_nomi_20_mean</th>\n",
       "      <td>-0.000796</td>\n",
       "      <td>0.000199</td>\n",
       "      <td>-0.000619</td>\n",
       "      <td>0.001724</td>\n",
       "      <td>0.000661</td>\n",
       "      <td>-0.001529</td>\n",
       "      <td>-0.000623</td>\n",
       "      <td>-0.003439</td>\n",
       "      <td>0.000012</td>\n",
       "      <td>-0.001762</td>\n",
       "      <td>...</td>\n",
       "      <td>-0.005185</td>\n",
       "      <td>-0.005866</td>\n",
       "      <td>-0.006759</td>\n",
       "      <td>-0.005132</td>\n",
       "      <td>-0.005950</td>\n",
       "      <td>-0.001996</td>\n",
       "      <td>-0.002635</td>\n",
       "      <td>-0.003977</td>\n",
       "      <td>-0.001651</td>\n",
       "      <td>-0.002001</td>\n",
       "    </tr>\n",
       "    <tr>\n",
       "      <th>spearman_corr_w_target_nomi_20_sharpe</th>\n",
       "      <td>-0.078689</td>\n",
       "      <td>0.020379</td>\n",
       "      <td>-0.067669</td>\n",
       "      <td>0.127591</td>\n",
       "      <td>0.065213</td>\n",
       "      <td>-0.173158</td>\n",
       "      <td>-0.084122</td>\n",
       "      <td>-0.323518</td>\n",
       "      <td>0.001100</td>\n",
       "      <td>-0.161949</td>\n",
       "      <td>...</td>\n",
       "      <td>-0.216388</td>\n",
       "      <td>-0.252259</td>\n",
       "      <td>-0.310896</td>\n",
       "      <td>-0.219533</td>\n",
       "      <td>-0.247247</td>\n",
       "      <td>-0.094700</td>\n",
       "      <td>-0.130897</td>\n",
       "      <td>-0.205489</td>\n",
       "      <td>-0.077834</td>\n",
       "      <td>-0.095218</td>\n",
       "    </tr>\n",
       "    <tr>\n",
       "      <th>spearman_corr_w_target_nomi_20_reversals</th>\n",
       "      <td>0.000074</td>\n",
       "      <td>0.000082</td>\n",
       "      <td>0.000067</td>\n",
       "      <td>0.000095</td>\n",
       "      <td>0.000072</td>\n",
       "      <td>0.000058</td>\n",
       "      <td>0.000052</td>\n",
       "      <td>0.000076</td>\n",
       "      <td>0.000105</td>\n",
       "      <td>0.000086</td>\n",
       "      <td>...</td>\n",
       "      <td>0.000385</td>\n",
       "      <td>0.000365</td>\n",
       "      <td>0.000324</td>\n",
       "      <td>0.000386</td>\n",
       "      <td>0.000393</td>\n",
       "      <td>0.000324</td>\n",
       "      <td>0.000306</td>\n",
       "      <td>0.000288</td>\n",
       "      <td>0.000342</td>\n",
       "      <td>0.000313</td>\n",
       "    </tr>\n",
       "    <tr>\n",
       "      <th>spearman_corr_w_target_nomi_20_autocorr</th>\n",
       "      <td>-0.013665</td>\n",
       "      <td>0.110503</td>\n",
       "      <td>0.036986</td>\n",
       "      <td>0.149465</td>\n",
       "      <td>0.014508</td>\n",
       "      <td>0.023341</td>\n",
       "      <td>-0.066927</td>\n",
       "      <td>0.093560</td>\n",
       "      <td>-0.041187</td>\n",
       "      <td>-0.127240</td>\n",
       "      <td>...</td>\n",
       "      <td>0.007061</td>\n",
       "      <td>0.014354</td>\n",
       "      <td>0.006205</td>\n",
       "      <td>-0.009986</td>\n",
       "      <td>0.013370</td>\n",
       "      <td>-0.011183</td>\n",
       "      <td>-0.002933</td>\n",
       "      <td>-0.007453</td>\n",
       "      <td>-0.020823</td>\n",
       "      <td>-0.012853</td>\n",
       "    </tr>\n",
       "    <tr>\n",
       "      <th>spearman_corr_w_target_nomi_20_arl</th>\n",
       "      <td>3.650350</td>\n",
       "      <td>3.456954</td>\n",
       "      <td>2.916201</td>\n",
       "      <td>3.984733</td>\n",
       "      <td>3.702128</td>\n",
       "      <td>3.411765</td>\n",
       "      <td>3.262500</td>\n",
       "      <td>3.575342</td>\n",
       "      <td>3.017341</td>\n",
       "      <td>3.984733</td>\n",
       "      <td>...</td>\n",
       "      <td>3.782609</td>\n",
       "      <td>3.434211</td>\n",
       "      <td>3.650350</td>\n",
       "      <td>3.625000</td>\n",
       "      <td>3.625000</td>\n",
       "      <td>3.866667</td>\n",
       "      <td>3.755396</td>\n",
       "      <td>3.434211</td>\n",
       "      <td>3.503356</td>\n",
       "      <td>3.503356</td>\n",
       "    </tr>\n",
       "  </tbody>\n",
       "</table>\n",
       "<p>6 rows × 1191 columns</p>\n",
       "</div>"
      ],
      "text/plain": [
       "                                          feature_honoured_observational_balaamite  \\\n",
       "legacy_uniqueness                                                         0.177814   \n",
       "spearman_corr_w_target_nomi_20_mean                                      -0.000796   \n",
       "spearman_corr_w_target_nomi_20_sharpe                                    -0.078689   \n",
       "spearman_corr_w_target_nomi_20_reversals                                  0.000074   \n",
       "spearman_corr_w_target_nomi_20_autocorr                                  -0.013665   \n",
       "spearman_corr_w_target_nomi_20_arl                                        3.650350   \n",
       "\n",
       "                                          feature_polaroid_vadose_quinze  \\\n",
       "legacy_uniqueness                                               0.241351   \n",
       "spearman_corr_w_target_nomi_20_mean                             0.000199   \n",
       "spearman_corr_w_target_nomi_20_sharpe                           0.020379   \n",
       "spearman_corr_w_target_nomi_20_reversals                        0.000082   \n",
       "spearman_corr_w_target_nomi_20_autocorr                         0.110503   \n",
       "spearman_corr_w_target_nomi_20_arl                              3.456954   \n",
       "\n",
       "                                          feature_untidy_withdrawn_bargeman  \\\n",
       "legacy_uniqueness                                                  0.659092   \n",
       "spearman_corr_w_target_nomi_20_mean                               -0.000619   \n",
       "spearman_corr_w_target_nomi_20_sharpe                             -0.067669   \n",
       "spearman_corr_w_target_nomi_20_reversals                           0.000067   \n",
       "spearman_corr_w_target_nomi_20_autocorr                            0.036986   \n",
       "spearman_corr_w_target_nomi_20_arl                                 2.916201   \n",
       "\n",
       "                                          feature_genuine_kyphotic_trehala  \\\n",
       "legacy_uniqueness                                                 0.234994   \n",
       "spearman_corr_w_target_nomi_20_mean                               0.001724   \n",
       "spearman_corr_w_target_nomi_20_sharpe                             0.127591   \n",
       "spearman_corr_w_target_nomi_20_reversals                          0.000095   \n",
       "spearman_corr_w_target_nomi_20_autocorr                           0.149465   \n",
       "spearman_corr_w_target_nomi_20_arl                                3.984733   \n",
       "\n",
       "                                          feature_unenthralled_sportful_schoolhouse  \\\n",
       "legacy_uniqueness                                                          0.471051   \n",
       "spearman_corr_w_target_nomi_20_mean                                        0.000661   \n",
       "spearman_corr_w_target_nomi_20_sharpe                                      0.065213   \n",
       "spearman_corr_w_target_nomi_20_reversals                                   0.000072   \n",
       "spearman_corr_w_target_nomi_20_autocorr                                    0.014508   \n",
       "spearman_corr_w_target_nomi_20_arl                                         3.702128   \n",
       "\n",
       "                                          feature_divulsive_explanatory_ideologue  \\\n",
       "legacy_uniqueness                                                        0.608926   \n",
       "spearman_corr_w_target_nomi_20_mean                                     -0.001529   \n",
       "spearman_corr_w_target_nomi_20_sharpe                                   -0.173158   \n",
       "spearman_corr_w_target_nomi_20_reversals                                 0.000058   \n",
       "spearman_corr_w_target_nomi_20_autocorr                                  0.023341   \n",
       "spearman_corr_w_target_nomi_20_arl                                       3.411765   \n",
       "\n",
       "                                          feature_ichthyotic_roofed_yeshiva  \\\n",
       "legacy_uniqueness                                                  0.220884   \n",
       "spearman_corr_w_target_nomi_20_mean                               -0.000623   \n",
       "spearman_corr_w_target_nomi_20_sharpe                             -0.084122   \n",
       "spearman_corr_w_target_nomi_20_reversals                           0.000052   \n",
       "spearman_corr_w_target_nomi_20_autocorr                           -0.066927   \n",
       "spearman_corr_w_target_nomi_20_arl                                 3.262500   \n",
       "\n",
       "                                          feature_waggly_outlandish_carbonisation  \\\n",
       "legacy_uniqueness                                                        0.671897   \n",
       "spearman_corr_w_target_nomi_20_mean                                     -0.003439   \n",
       "spearman_corr_w_target_nomi_20_sharpe                                   -0.323518   \n",
       "spearman_corr_w_target_nomi_20_reversals                                 0.000076   \n",
       "spearman_corr_w_target_nomi_20_autocorr                                  0.093560   \n",
       "spearman_corr_w_target_nomi_20_arl                                       3.575342   \n",
       "\n",
       "                                          feature_floriated_amish_sprite  \\\n",
       "legacy_uniqueness                                               0.878900   \n",
       "spearman_corr_w_target_nomi_20_mean                             0.000012   \n",
       "spearman_corr_w_target_nomi_20_sharpe                           0.001100   \n",
       "spearman_corr_w_target_nomi_20_reversals                        0.000105   \n",
       "spearman_corr_w_target_nomi_20_autocorr                        -0.041187   \n",
       "spearman_corr_w_target_nomi_20_arl                              3.017341   \n",
       "\n",
       "                                          feature_iconoclastic_parietal_agonist  \\\n",
       "legacy_uniqueness                                                      0.174533   \n",
       "spearman_corr_w_target_nomi_20_mean                                   -0.001762   \n",
       "spearman_corr_w_target_nomi_20_sharpe                                 -0.161949   \n",
       "spearman_corr_w_target_nomi_20_reversals                               0.000086   \n",
       "spearman_corr_w_target_nomi_20_autocorr                               -0.127240   \n",
       "spearman_corr_w_target_nomi_20_arl                                     3.984733   \n",
       "\n",
       "                                          ...  \\\n",
       "legacy_uniqueness                         ...   \n",
       "spearman_corr_w_target_nomi_20_mean       ...   \n",
       "spearman_corr_w_target_nomi_20_sharpe     ...   \n",
       "spearman_corr_w_target_nomi_20_reversals  ...   \n",
       "spearman_corr_w_target_nomi_20_autocorr   ...   \n",
       "spearman_corr_w_target_nomi_20_arl        ...   \n",
       "\n",
       "                                          feature_circumspective_daughterly_brubeck  \\\n",
       "legacy_uniqueness                                                          0.777375   \n",
       "spearman_corr_w_target_nomi_20_mean                                       -0.005185   \n",
       "spearman_corr_w_target_nomi_20_sharpe                                     -0.216388   \n",
       "spearman_corr_w_target_nomi_20_reversals                                   0.000385   \n",
       "spearman_corr_w_target_nomi_20_autocorr                                    0.007061   \n",
       "spearman_corr_w_target_nomi_20_arl                                         3.782609   \n",
       "\n",
       "                                          feature_mimetic_sprawly_flue  \\\n",
       "legacy_uniqueness                                             0.788337   \n",
       "spearman_corr_w_target_nomi_20_mean                          -0.005866   \n",
       "spearman_corr_w_target_nomi_20_sharpe                        -0.252259   \n",
       "spearman_corr_w_target_nomi_20_reversals                      0.000365   \n",
       "spearman_corr_w_target_nomi_20_autocorr                       0.014354   \n",
       "spearman_corr_w_target_nomi_20_arl                            3.434211   \n",
       "\n",
       "                                          feature_inductile_umbrian_wallah  \\\n",
       "legacy_uniqueness                                                 0.798391   \n",
       "spearman_corr_w_target_nomi_20_mean                              -0.006759   \n",
       "spearman_corr_w_target_nomi_20_sharpe                            -0.310896   \n",
       "spearman_corr_w_target_nomi_20_reversals                          0.000324   \n",
       "spearman_corr_w_target_nomi_20_autocorr                           0.006205   \n",
       "spearman_corr_w_target_nomi_20_arl                                3.650350   \n",
       "\n",
       "                                          feature_ineloquent_bihari_brougham  \\\n",
       "legacy_uniqueness                                                   0.777608   \n",
       "spearman_corr_w_target_nomi_20_mean                                -0.005132   \n",
       "spearman_corr_w_target_nomi_20_sharpe                              -0.219533   \n",
       "spearman_corr_w_target_nomi_20_reversals                            0.000386   \n",
       "spearman_corr_w_target_nomi_20_autocorr                            -0.009986   \n",
       "spearman_corr_w_target_nomi_20_arl                                  3.625000   \n",
       "\n",
       "                                          feature_shakespearean_alpha_constituent  \\\n",
       "legacy_uniqueness                                                        0.781240   \n",
       "spearman_corr_w_target_nomi_20_mean                                     -0.005950   \n",
       "spearman_corr_w_target_nomi_20_sharpe                                   -0.247247   \n",
       "spearman_corr_w_target_nomi_20_reversals                                 0.000393   \n",
       "spearman_corr_w_target_nomi_20_autocorr                                  0.013370   \n",
       "spearman_corr_w_target_nomi_20_arl                                       3.625000   \n",
       "\n",
       "                                          feature_marxian_plated_refrigeration  \\\n",
       "legacy_uniqueness                                                     0.801397   \n",
       "spearman_corr_w_target_nomi_20_mean                                  -0.001996   \n",
       "spearman_corr_w_target_nomi_20_sharpe                                -0.094700   \n",
       "spearman_corr_w_target_nomi_20_reversals                              0.000324   \n",
       "spearman_corr_w_target_nomi_20_autocorr                              -0.011183   \n",
       "spearman_corr_w_target_nomi_20_arl                                    3.866667   \n",
       "\n",
       "                                          feature_amative_irresponsive_flattie  \\\n",
       "legacy_uniqueness                                                     0.812955   \n",
       "spearman_corr_w_target_nomi_20_mean                                  -0.002635   \n",
       "spearman_corr_w_target_nomi_20_sharpe                                -0.130897   \n",
       "spearman_corr_w_target_nomi_20_reversals                              0.000306   \n",
       "spearman_corr_w_target_nomi_20_autocorr                              -0.002933   \n",
       "spearman_corr_w_target_nomi_20_arl                                    3.755396   \n",
       "\n",
       "                                          feature_intermissive_coronal_reinsertion  \\\n",
       "legacy_uniqueness                                                         0.824060   \n",
       "spearman_corr_w_target_nomi_20_mean                                      -0.003977   \n",
       "spearman_corr_w_target_nomi_20_sharpe                                    -0.205489   \n",
       "spearman_corr_w_target_nomi_20_reversals                                  0.000288   \n",
       "spearman_corr_w_target_nomi_20_autocorr                                  -0.007453   \n",
       "spearman_corr_w_target_nomi_20_arl                                        3.434211   \n",
       "\n",
       "                                          feature_dwarfish_isochronal_amateur  \\\n",
       "legacy_uniqueness                                                    0.793313   \n",
       "spearman_corr_w_target_nomi_20_mean                                 -0.001651   \n",
       "spearman_corr_w_target_nomi_20_sharpe                               -0.077834   \n",
       "spearman_corr_w_target_nomi_20_reversals                             0.000342   \n",
       "spearman_corr_w_target_nomi_20_autocorr                             -0.020823   \n",
       "spearman_corr_w_target_nomi_20_arl                                   3.503356   \n",
       "\n",
       "                                          feature_polyphyletic_unplumed_pandiculation  \n",
       "legacy_uniqueness                                                            0.806686  \n",
       "spearman_corr_w_target_nomi_20_mean                                         -0.002001  \n",
       "spearman_corr_w_target_nomi_20_sharpe                                       -0.095218  \n",
       "spearman_corr_w_target_nomi_20_reversals                                     0.000313  \n",
       "spearman_corr_w_target_nomi_20_autocorr                                     -0.012853  \n",
       "spearman_corr_w_target_nomi_20_arl                                           3.503356  \n",
       "\n",
       "[6 rows x 1191 columns]"
      ]
     },
     "execution_count": 56,
     "metadata": {},
     "output_type": "execute_result"
    }
   ],
   "source": [
    "with open('v4/FEATURES.json', 'r') as f:\n",
    "    FEATURE_METADATA = json.load(f)\n",
    "del f\n",
    "\n",
    "FEATURES_L = list(FEATURE_METADATA['feature_stats'].keys())\n",
    "FEATURES_M = FEATURE_METADATA['feature_sets']['medium']\n",
    "FEATURES_S = FEATURE_METADATA['feature_sets']['small']\n",
    "FEATURES_2 = FEATURE_METADATA['feature_sets']['v2_equivalent_features']\n",
    "FEATURES_3 = FEATURE_METADATA['feature_sets']['v3_equivalent_features']\n",
    "FEATURES_N = FEATURE_METADATA['feature_sets']['fncv3_features']\n",
    "\n",
    "ERA = 'era'\n",
    "DATA = 'data_type'\n",
    "Y_TRUE = 'target_nomi_v4_20'\n",
    "Y_PRED = 'target_prediction'\n",
    "Y_RANK = 'prediction' \n",
    "\n",
    "X_COLS = FEATURES_L\n",
    "COLUMNS = [ERA, DATA] + X_COLS + [Y_TRUE]\n",
    "\n",
    "df_feature_metadata = pd.DataFrame(FEATURE_METADATA['feature_stats'])\n",
    "df_feature_metadata"
   ]
  },
  {
   "cell_type": "markdown",
   "metadata": {},
   "source": [
    "# Dataframes"
   ]
  },
  {
   "cell_type": "markdown",
   "metadata": {},
   "source": [
    "## Train"
   ]
  },
  {
   "cell_type": "code",
   "execution_count": 57,
   "metadata": {},
   "outputs": [],
   "source": [
    "# df_trn = pd.read_parquet('v4/train_int8.parquet', columns=COLUMNS)\n",
    "# df_trn[ERA] = df_trn[ERA].astype('int32')\n",
    "# df_trn.info(memory_usage='deep')\n",
    "# df_trn"
   ]
  },
  {
   "cell_type": "markdown",
   "metadata": {},
   "source": [
    "## Validation + Test"
   ]
  },
  {
   "cell_type": "code",
   "execution_count": 58,
   "metadata": {},
   "outputs": [],
   "source": [
    "# df_val = pd.read_parquet('v4/validation_int8.parquet', columns=COLUMNS)\n",
    "# df_val[ERA] = df_val[ERA].astype('int32')\n",
    "# df_val.info(memory_usage='deep')\n",
    "# df_val"
   ]
  },
  {
   "cell_type": "markdown",
   "metadata": {},
   "source": [
    "## Live"
   ]
  },
  {
   "cell_type": "code",
   "execution_count": 59,
   "metadata": {},
   "outputs": [],
   "source": [
    "# df_liv = pd.read_parquet('v4/live_int8_{round}.parquet', columns=COLUMNS)\n",
    "# df_liv.info(memory_usage='deep')\n",
    "# df_liv"
   ]
  },
  {
   "cell_type": "markdown",
   "metadata": {},
   "source": [
    "# Analyse data"
   ]
  },
  {
   "cell_type": "markdown",
   "metadata": {},
   "source": [
    "## Number of examples as a function of the era"
   ]
  },
  {
   "cell_type": "code",
   "execution_count": 60,
   "metadata": {},
   "outputs": [],
   "source": [
    "# x_trn = df.groupby(ERA).size().index.values\n",
    "# y_trn = df_trn.groupby(ERA).size().values\n",
    "# x_val = df_val[df_val[DATA]=='validation'].groupby(ERA).size().index.values\n",
    "# y_val = df_val[df_val[DATA]=='validation'].groupby(ERA).size().values\n",
    "# x_tst = df_val[df_val[DATA]=='test'].groupby(ERA).size().index.values\n",
    "# y_tst = df_val[df_val[DATA]=='test'].groupby(ERA).size().values\n",
    "\n",
    "# fig, ax = plt.subplots()\n",
    "# ax.plot(x_trn, y_trn, label='train')\n",
    "# ax.plot(x_val, y_val, label='validation')\n",
    "# ax.plot(x_tst, y_tst, label='test')\n",
    "# ax.set_xlabel(ERA)\n",
    "# ax.set_ylabel('number of examples')\n",
    "# ax.legend()"
   ]
  },
  {
   "cell_type": "code",
   "execution_count": 61,
   "metadata": {},
   "outputs": [],
   "source": [
    "# del df_val\n",
    "# del df_liv\n",
    "# gc.collect()"
   ]
  },
  {
   "cell_type": "markdown",
   "metadata": {},
   "source": [
    "## Feature correlation heatmap"
   ]
  },
  {
   "cell_type": "code",
   "execution_count": 62,
   "metadata": {},
   "outputs": [],
   "source": [
    "# feature_correlations = df_trn[df_trn[ERA]==1][FEATURES].corr()\n",
    "# plt.figure(figsize = (8,8))\n",
    "# plt.imshow(feature_correlations)\n",
    "# for a in [210, 420, 630, 840, 1050]:\n",
    "#     plt.axvline(a, color='orange')\n",
    "#     plt.axhline(a, color='orange')"
   ]
  },
  {
   "cell_type": "markdown",
   "metadata": {},
   "source": [
    "## Correlation of feature with target as a function of the era"
   ]
  },
  {
   "cell_type": "code",
   "execution_count": 63,
   "metadata": {},
   "outputs": [],
   "source": [
    "# def corrs_with_target(era):\n",
    "#     return np.corrcoef(df_trn[df_trn[ERA]==era][[TARGET] + FEATURES].T)[0, 1:]\n",
    "\n",
    "# eras = df_trn[ERA].unique()\n",
    "# t_corrs = np.array([corrs_with_target(era) for era in eras])\n",
    "# t_corrs = pd.DataFrame(t_corrs)\n",
    "# t_corrs.rename(columns = dict(enumerate(FEATURES)), inplace=True)\n",
    "# t_corrs.insert(0, ERA, eras)\n",
    "# joblib.dump(t_corrs, 'saved-variables/t_corrs.pkl')\n",
    "# t_corrs = joblib.load('saved-variables/t_corrs.pkl')"
   ]
  },
  {
   "cell_type": "code",
   "execution_count": 64,
   "metadata": {},
   "outputs": [],
   "source": [
    "# x = t_corrs[ERA]\n",
    "# y = t_corrs['feature_untidy_withdrawn_bargeman']\n",
    "\n",
    "# fig, ax = plt.subplots()\n",
    "# ax.plot(x, y)\n",
    "# ax.set_xlabel(ERA)\n",
    "# ax.set_ylabel('correlation with target')"
   ]
  },
  {
   "cell_type": "markdown",
   "metadata": {},
   "source": [
    "# Notes for testing models\n",
    "\n",
    "Performance metrics:\n",
    "\n",
    "- correlation\n",
    "- rank-correlation / spearman-correlation\n",
    "- `sklearn.metrics.r2_score`\n",
    "- `sklearn.metrics.mean_squared_error`\n",
    "\n",
    "Models worth trying at first\n",
    "\n",
    "- `sklearn.linear_model.LinearRegression()`\n",
    "- `sklearn.linear_model.LogisticRegression()` (This doesn't work, it's only for classification - but some example uses it?)\n",
    "- `sklearn.linear_model.SGDRegressor()` (Stochastic Gradient Descent regressor)\n",
    "- `sklearn.linear_model.Lasso()`\n",
    "- `sklearn.linear_model.ElasticNet()`\n",
    "- `sklearn.linear_model.Ridge()`\n",
    "- `sklearn.svm.SVR(kernel='rbf')` (Support Vector Machine / Regression)\n",
    "- `sklearn.svm.SVR(kernel='linear')`\n",
    "- `lightgbm.LGBMRegressor()`\n",
    "- `xgboost.XGBRegressor()`\n",
    "\n",
    "Ensembles\n",
    "\n",
    "- `sklearn.ensemble.RandomForestRegressor()`\n",
    "- `sklearn.ensemble.ExtraTreesRegressor()`\n",
    "- `sklearn.ensemble.BaggingRegressor()`\n",
    "- `sklearn.ensemble.AdaBoostRegressor()`\n",
    "- `sklearn.ensemble.GradientBoostingRegressor()`"
   ]
  },
  {
   "cell_type": "markdown",
   "metadata": {},
   "source": [
    "# EraSubsampler class"
   ]
  },
  {
   "cell_type": "code",
   "execution_count": 65,
   "metadata": {},
   "outputs": [],
   "source": [
    "class EraSubsampler:\n",
    "    def __init__(self, base_estimator):\n",
    "        self.model = [deepcopy(base_estimator) for i in range(4)]\n",
    "\n",
    "    def get_params(self, deep=True):\n",
    "        return self.model[0].get_params()\n",
    "\n",
    "    def set_params(self, **params):\n",
    "        for i in range(4):\n",
    "            self.model[i].set_params(**params)\n",
    "\n",
    "    def fit(self, X, y, groups):\n",
    "        e0 = groups.min()\n",
    "        e1 = groups.max() + 1\n",
    "        for i in trange(4):\n",
    "            self.model[i].fit(X[groups.isin(np.arange(e0 + i, e1, 4))], \n",
    "                              y[groups.isin(np.arange(e0 + i, e1, 4))])\n",
    "\n",
    "    def predict(self, X):\n",
    "        y_pred = 0\n",
    "        for i in trange(4):\n",
    "            y_pred += self.model[i].predict(X)\n",
    "        y_pred /= 4\n",
    "        return y_pred\n",
    "\n",
    "    # TODO: idea: have the score function be the numerai_score.\n",
    "    # The dificulty is that this depends on groups\n",
    "    def score(self, X, y):\n",
    "        return r2_score(y, self.predict(X))"
   ]
  },
  {
   "cell_type": "markdown",
   "metadata": {},
   "source": [
    "# XGBoost"
   ]
  },
  {
   "cell_type": "code",
   "execution_count": 66,
   "metadata": {},
   "outputs": [],
   "source": [
    "# training set\n",
    "X_COLS = FEATURES_S\n",
    "COLUMNS = [ERA, DATA] + X_COLS + [Y_TRUE]\n",
    "df_trn = pd.read_parquet('v4/train_int8.parquet', columns=COLUMNS)\n",
    "df_trn[ERA] = df_trn[ERA].astype('int32')\n",
    "df_trn = df_trn[df_trn[ERA] <= 20]"
   ]
  },
  {
   "cell_type": "code",
   "execution_count": 67,
   "metadata": {},
   "outputs": [],
   "source": [
    "# model\n",
    "params = {\n",
    "    'n_estimators': 2000,\n",
    "    'learning_rate': 0.01,\n",
    "    'max_depth': 5,\n",
    "    'max_leaves': 2**5,\n",
    "    'colsample_bytree': 0.1,\n",
    "    'gpu_id': 0,\n",
    "    'tree_method': 'gpu_hist',\n",
    "}\n",
    "base_estimator = XGBRegressor(**params)\n",
    "xgb = EraSubsampler(base_estimator)"
   ]
  },
  {
   "cell_type": "code",
   "execution_count": 68,
   "metadata": {},
   "outputs": [
    {
     "name": "stderr",
     "output_type": "stream",
     "text": [
      "100%|██████████| 4/4 [00:20<00:00,  5.22s/it]\n"
     ]
    }
   ],
   "source": [
    "# train\n",
    "xgb.fit(df_trn[X_COLS], df_trn[Y_TRUE], df_trn[ERA])"
   ]
  },
  {
   "cell_type": "code",
   "execution_count": 69,
   "metadata": {},
   "outputs": [
    {
     "name": "stderr",
     "output_type": "stream",
     "text": [
      "100%|██████████| 4/4 [00:00<00:00,  4.82it/s]\n"
     ]
    }
   ],
   "source": [
    "# predict and score on training set\n",
    "df_trn[Y_PRED] = xgb.predict(df_trn[X_COLS])\n",
    "df_trn[Y_RANK] = df_trn[Y_PRED].rank(pct=True)\n",
    "ns_trn = numerai_score(df_trn[Y_TRUE], df_trn[Y_PRED], df_trn[ERA])"
   ]
  },
  {
   "cell_type": "code",
   "execution_count": 70,
   "metadata": {},
   "outputs": [],
   "source": [
    "# # define validation set\n",
    "# df_val = pd.read_parquet('v4/validation_int8.parquet', columns=COLUMNS)\n",
    "# df_val[ERA] = df_val[ERA].astype('int32')\n",
    "# # df_val = df_val[df_val[ERA] <= 575 + 20]\n",
    "\n",
    "# # predict and score on validation set\n",
    "# df_val[Y_PRED] = xgb.predict(df_val[X_COLS])\n",
    "# df_val[Y_RANK] = df_val[Y_PRED].rank(pct=True)\n",
    "# ns_val = numerai_score(df_val[Y_TRUE], df_val[Y_PRED], df_val[ERA])"
   ]
  },
  {
   "cell_type": "code",
   "execution_count": 71,
   "metadata": {},
   "outputs": [],
   "source": [
    "# # define live set\n",
    "# df_liv = pd.read_parquet(f'v4/live_int8_{round}.parquet', columns=COLUMNS)\n",
    "\n",
    "# # predict on validation set\n",
    "# df_liv[Y_PRED] = xgb.predict(df_liv[X_COLS])\n",
    "# df_liv[Y_RANK] = df_liv[Y_PRED].rank(pct=True)"
   ]
  },
  {
   "cell_type": "code",
   "execution_count": 72,
   "metadata": {},
   "outputs": [],
   "source": [
    "# # save variables\n",
    "# now = datetime.now().strftime('%Y%m%d%H%M')\n",
    "# joblib.dump(xgb, f'saved-variables/xgb_{now}.pkl')\n",
    "# df_val[Y_RANK].to_csv(f'predictions/validation_predictions_{round}_{now}.csv')\n",
    "# df_liv[Y_RANK].to_csv(f'predictions/live_predictions_{round}_{now}.csv')"
   ]
  },
  {
   "cell_type": "markdown",
   "metadata": {},
   "source": [
    "# New EraSubsampler class (according to sklearn)"
   ]
  },
  {
   "cell_type": "code",
   "execution_count": 73,
   "metadata": {},
   "outputs": [],
   "source": [
    "# class EraSubsamplerSK(BaseEstimator):\n",
    "#     def __init__(self, estimator, params=dict()):\n",
    "#         self.estimator = estimator\n",
    "#         self.params = params\n",
    "\n",
    "#     def fit(self, X, y, groups):\n",
    "#         X, y = check_X_y(X, y, accept_sparse=True)\n",
    "#         e0 = groups.min()\n",
    "#         e1 = groups.max() + 1\n",
    "#         est_copy = deepcopy(self.estimator)\n",
    "#         est_copy.set_params(**self.params)\n",
    "#         self.model = [deepcopy(est_copy) for i in range(4)]\n",
    "#         for i in trange(4):\n",
    "#             self.model[i].fit(X[groups.isin(np.arange(e0 + i, e1, 4))], \n",
    "#                               y[groups.isin(np.arange(e0 + i, e1, 4))])\n",
    "#         self.is_fitted_ = True\n",
    "#         return self\n",
    "\n",
    "#     def predict(self, X):\n",
    "#         X = check_array(X, accept_sparse=True)\n",
    "#         check_is_fitted(self, 'is_fitted_')\n",
    "#         y_pred = 0\n",
    "#         for i in trange(4):\n",
    "#             y_pred += self.model[i].predict(X)\n",
    "#         y_pred /= 4\n",
    "#         return y_pred\n",
    "\n",
    "#     def score(self, X, y):\n",
    "#         return r2_score(y, self.predict(X))"
   ]
  },
  {
   "cell_type": "code",
   "execution_count": 74,
   "metadata": {},
   "outputs": [],
   "source": [
    "class EraSubsamplerSK(BaseEstimator):\n",
    "    def __init__(self, estimator):\n",
    "        self.estimator = estimator\n",
    "\n",
    "    def fit(self, X, y, eras):\n",
    "        X, y = check_X_y(X, y, accept_sparse=True)\n",
    "        e0 = eras.min()\n",
    "        e1 = eras.max() + 1\n",
    "        self.model = [deepcopy(self.estimator) for i in range(4)]\n",
    "        for i in trange(4):\n",
    "            self.model[i].fit(X[eras.isin(np.arange(e0 + i, e1, 4))], \n",
    "                              y[eras.isin(np.arange(e0 + i, e1, 4))])\n",
    "        self.is_fitted_ = True\n",
    "        return self\n",
    "\n",
    "    def predict(self, X):\n",
    "        X = check_array(X, accept_sparse=True)\n",
    "        check_is_fitted(self, 'is_fitted_')\n",
    "        y_pred = 0\n",
    "        for i in trange(4):\n",
    "            y_pred += self.model[i].predict(X)\n",
    "        y_pred /= 4\n",
    "        return y_pred\n",
    "\n",
    "    def score(self, X, y):\n",
    "        return r2_score(y, self.predict(X))"
   ]
  },
  {
   "cell_type": "code",
   "execution_count": 75,
   "metadata": {},
   "outputs": [],
   "source": [
    "# xgb = XGBRegressor()\n",
    "# est = EraSubsamplerSK(xgb)\n",
    "# pprint(est.get_params())\n",
    "# est.set_params(estimator__n_estimators=2000)\n",
    "# pprint(est.get_params())"
   ]
  },
  {
   "cell_type": "code",
   "execution_count": 76,
   "metadata": {},
   "outputs": [
    {
     "name": "stderr",
     "output_type": "stream",
     "text": [
      "100%|██████████| 4/4 [00:20<00:00,  5.08s/it]\n",
      "100%|██████████| 4/4 [00:00<00:00,  5.58it/s]\n"
     ]
    }
   ],
   "source": [
    "xgbSK = EraSubsamplerSK(XGBRegressor(**params))\n",
    "xgbSK.fit(df_trn[X_COLS], df_trn[Y_TRUE], df_trn[ERA])\n",
    "df_trn['SK_' + Y_PRED] = xgbSK.predict(df_trn[X_COLS])\n",
    "df_trn['SK_' + Y_RANK] = df_trn['SK_' + Y_PRED].rank(pct=True)\n",
    "ns_sk = numerai_score(df_trn[Y_TRUE], df_trn['SK_' + Y_PRED], df_trn[ERA])"
   ]
  },
  {
   "cell_type": "markdown",
   "metadata": {},
   "source": [
    "# Grid Search test"
   ]
  },
  {
   "cell_type": "code",
   "execution_count": 77,
   "metadata": {},
   "outputs": [],
   "source": [
    "# model for grid search\n",
    "# params = {\n",
    "#     'n_estimators': [2000],\n",
    "#     'learning_rate': [0.01],\n",
    "#     'max_depth': [5],\n",
    "#     'max_leaves': [2**5],\n",
    "#     'colsample_bytree': [0.1],\n",
    "#     'gpu_id': [0],\n",
    "#     'tree_method': ['gpu_hist'],\n",
    "# }\n",
    "param_grid = {'estimator__' + k: [v] for k, v in params.items()}\n",
    "xgbGS = GridSearchCV(EraSubsamplerSK(XGBRegressor()), param_grid)"
   ]
  },
  {
   "cell_type": "code",
   "execution_count": 78,
   "metadata": {},
   "outputs": [
    {
     "name": "stderr",
     "output_type": "stream",
     "text": [
      "100%|██████████| 4/4 [00:19<00:00,  4.82s/it]\n",
      "100%|██████████| 4/4 [00:00<00:00, 25.75it/s]\n",
      "100%|██████████| 4/4 [00:19<00:00,  4.82s/it]\n",
      "100%|██████████| 4/4 [00:00<00:00, 24.23it/s]\n",
      "100%|██████████| 4/4 [00:19<00:00,  4.83s/it]\n",
      "100%|██████████| 4/4 [00:00<00:00, 25.35it/s]\n",
      "100%|██████████| 4/4 [00:19<00:00,  4.83s/it]\n",
      "100%|██████████| 4/4 [00:00<00:00, 25.34it/s]\n",
      "100%|██████████| 4/4 [00:19<00:00,  4.85s/it]\n",
      "100%|██████████| 4/4 [00:00<00:00, 24.53it/s]\n",
      "100%|██████████| 4/4 [00:19<00:00,  4.92s/it]\n"
     ]
    },
    {
     "data": {
      "text/plain": [
       "GridSearchCV(estimator=EraSubsamplerSK(estimator=XGBRegressor(base_score=None,\n",
       "                                                              booster=None,\n",
       "                                                              callbacks=None,\n",
       "                                                              colsample_bylevel=None,\n",
       "                                                              colsample_bynode=None,\n",
       "                                                              colsample_bytree=None,\n",
       "                                                              early_stopping_rounds=None,\n",
       "                                                              enable_categorical=False,\n",
       "                                                              eval_metric=None,\n",
       "                                                              gamma=None,\n",
       "                                                              gpu_id=None,\n",
       "                                                              grow_policy=None,\n",
       "                                                              importance_type=None,\n",
       "                                                              interaction_constraints=None,\n",
       "                                                              learning_rate=None...\n",
       "                                                              n_estimators=100,\n",
       "                                                              n_jobs=None,\n",
       "                                                              num_parallel_tree=None,\n",
       "                                                              predictor=None,\n",
       "                                                              random_state=None,\n",
       "                                                              reg_alpha=None,\n",
       "                                                              reg_lambda=None, ...)),\n",
       "             param_grid={'estimator__colsample_bytree': [0.1],\n",
       "                         'estimator__gpu_id': [0],\n",
       "                         'estimator__learning_rate': [0.01],\n",
       "                         'estimator__max_depth': [5],\n",
       "                         'estimator__max_leaves': [32],\n",
       "                         'estimator__n_estimators': [2000],\n",
       "                         'estimator__tree_method': ['gpu_hist']})"
      ]
     },
     "execution_count": 78,
     "metadata": {},
     "output_type": "execute_result"
    }
   ],
   "source": [
    "# train grid search\n",
    "xgbGS.fit(df_trn[X_COLS], df_trn[Y_TRUE], groups=df_trn[ERA], **{'eras': df_trn[ERA]})"
   ]
  },
  {
   "cell_type": "code",
   "execution_count": 79,
   "metadata": {},
   "outputs": [],
   "source": [
    "bst = xgbGS.best_estimator_"
   ]
  },
  {
   "cell_type": "code",
   "execution_count": 80,
   "metadata": {},
   "outputs": [
    {
     "name": "stderr",
     "output_type": "stream",
     "text": [
      "100%|██████████| 4/4 [00:00<00:00,  5.29it/s]\n"
     ]
    }
   ],
   "source": [
    "# predict and score on training set using best estimator\n",
    "df_trn['bst_' + Y_PRED] = bst.predict(df_trn[X_COLS])\n",
    "df_trn['bst_' + Y_RANK] = df_trn['bst_' + Y_PRED].rank(pct=True)\n",
    "ns_bst = numerai_score(df_trn[Y_TRUE], df_trn['bst_' + Y_PRED], df_trn[ERA])\n",
    "# ns_trn = numerai_score(df_trn[Y_TRUE], df_trn[Y_PRED], df_trn[ERA])"
   ]
  }
 ],
 "metadata": {
  "kernelspec": {
   "display_name": "Python 3.9.7 ('base')",
   "language": "python",
   "name": "python3"
  },
  "language_info": {
   "codemirror_mode": {
    "name": "ipython",
    "version": 3
   },
   "file_extension": ".py",
   "mimetype": "text/x-python",
   "name": "python",
   "nbconvert_exporter": "python",
   "pygments_lexer": "ipython3",
   "version": "3.9.7"
  },
  "orig_nbformat": 4,
  "vscode": {
   "interpreter": {
    "hash": "d202d1b6c0c7975210c24a4862339e0f7f90d66cb89735f264f6c4d5c4350e67"
   }
  }
 },
 "nbformat": 4,
 "nbformat_minor": 2
}
