{
 "cells": [
  {
   "cell_type": "markdown",
   "metadata": {},
   "source": [
    "# Imports"
   ]
  },
  {
   "cell_type": "code",
   "execution_count": 1,
   "metadata": {},
   "outputs": [],
   "source": [
    "# data\n",
    "import matplotlib\n",
    "import matplotlib.pyplot as plt\n",
    "import pandas as pd\n",
    "import numpy as np\n",
    "\n",
    "# machine learning\n",
    "import sklearn\n",
    "import lightgbm\n",
    "\n",
    "# other\n",
    "import gc\n",
    "import json\n",
    "import random\n",
    "from numerapi import NumerAPI"
   ]
  },
  {
   "cell_type": "markdown",
   "metadata": {},
   "source": [
    "# Download data"
   ]
  },
  {
   "cell_type": "code",
   "execution_count": 2,
   "metadata": {},
   "outputs": [],
   "source": [
    "napi = NumerAPI()\n",
    "current_round = napi.get_current_round()\n",
    "\n",
    "filenames = napi.list_datasets()\n",
    "\n",
    "# napi.download_dataset('v4/features.json')\n",
    "# napi.download_dataset('v4/train.parquet')\n",
    "# napi.download_dataset('v4/validation.parquet')\n",
    "# napi.download_dataset('v4/live.parquet', f'v4/live_{current_round}.parquet')"
   ]
  },
  {
   "cell_type": "code",
   "execution_count": null,
   "metadata": {},
   "outputs": [],
   "source": []
  },
  {
   "cell_type": "code",
   "execution_count": 3,
   "metadata": {},
   "outputs": [
    {
     "name": "stdout",
     "output_type": "stream",
     "text": [
      "small 38\n",
      "medium 472\n",
      "v2_equivalent_features 304\n",
      "v3_equivalent_features 1050\n",
      "fncv3_features 420\n"
     ]
    }
   ],
   "source": [
    "feature_metadata = json.load(open('v4/features.json', 'r'))\n",
    "\n",
    "for k, v in feature_metadata[\"feature_sets\"].items():\n",
    "    print(k, len(v))\n",
    "\n",
    "# features = list(feature_metadata['feature_stats'].keys())\n",
    "features = feature_metadata[\"feature_sets\"][\"medium\"]\n",
    "read_columns = features + ['era', 'data_type', 'target_nomi_v4_20']\n",
    "\n",
    "live_data = pd.read_parquet(f'v4/live_{current_round}.parquet', columns = read_columns)\n",
    "validation_data = pd.read_parquet('v4/validation.parquet', columns = read_columns)\n",
    "# training_data = pd.read_parquet('v4/train.parquet', columns=read_columns)"
   ]
  }
 ],
 "metadata": {
  "kernelspec": {
   "display_name": "Python 3.9.7 ('base')",
   "language": "python",
   "name": "python3"
  },
  "language_info": {
   "codemirror_mode": {
    "name": "ipython",
    "version": 3
   },
   "file_extension": ".py",
   "mimetype": "text/x-python",
   "name": "python",
   "nbconvert_exporter": "python",
   "pygments_lexer": "ipython3",
   "version": "3.9.7"
  },
  "orig_nbformat": 4,
  "vscode": {
   "interpreter": {
    "hash": "d202d1b6c0c7975210c24a4862339e0f7f90d66cb89735f264f6c4d5c4350e67"
   }
  }
 },
 "nbformat": 4,
 "nbformat_minor": 2
}
