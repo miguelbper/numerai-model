{
 "cells": [
  {
   "cell_type": "markdown",
   "metadata": {},
   "source": [
    "# Imports"
   ]
  },
  {
   "cell_type": "code",
   "execution_count": 1,
   "metadata": {},
   "outputs": [],
   "source": [
    "# Numerai API\n",
    "from numerapi import NumerAPI\n",
    "\n",
    "# data\n",
    "import matplotlib.pyplot as plt\n",
    "import pandas as pd\n",
    "import numpy as np\n",
    "\n",
    "# machine learning models\n",
    "from sklearn.linear_model import LinearRegression\n",
    "\n",
    "# other\n",
    "import json\n",
    "from tqdm import tqdm\n",
    "\n",
    "# my utils\n",
    "from utils import *"
   ]
  },
  {
   "cell_type": "markdown",
   "metadata": {},
   "source": [
    "# Download data"
   ]
  },
  {
   "cell_type": "code",
   "execution_count": 2,
   "metadata": {},
   "outputs": [
    {
     "name": "stderr",
     "output_type": "stream",
     "text": [
      "2022-08-03 11:16:51,368 INFO numerapi.utils: target file already exists\n",
      "2022-08-03 11:16:51,371 INFO numerapi.utils: download complete\n",
      "2022-08-03 11:16:53,034 INFO numerapi.utils: target file already exists\n",
      "2022-08-03 11:16:53,038 INFO numerapi.utils: download complete\n",
      "2022-08-03 11:16:54,101 INFO numerapi.utils: target file already exists\n",
      "2022-08-03 11:16:54,104 INFO numerapi.utils: download complete\n",
      "2022-08-03 11:16:55,163 INFO numerapi.utils: target file already exists\n",
      "2022-08-03 11:16:55,165 INFO numerapi.utils: download complete\n"
     ]
    }
   ],
   "source": [
    "napi = NumerAPI()\n",
    "round = napi.get_current_round()\n",
    "era = round + 695\n",
    "\n",
    "napi.download_dataset('v4/features.json', 'data/features.json')\n",
    "napi.download_dataset('v4/train_int8.parquet', 'data/train.parquet')\n",
    "napi.download_dataset('v4/validation_int8.parquet', 'data/validation.parquet')\n",
    "napi.download_dataset('v4/live_int8.parquet', f'data/live_{round}.parquet')"
   ]
  },
  {
   "cell_type": "markdown",
   "metadata": {},
   "source": [
    "# Features"
   ]
  },
  {
   "cell_type": "code",
   "execution_count": 3,
   "metadata": {},
   "outputs": [],
   "source": [
    "COLUMNS = [ERA, DATA] + X_COLS + [Y_TRUE]\n",
    "ITC = 'intercept'\n",
    "COEFS = X_COLS + [ITC]"
   ]
  },
  {
   "cell_type": "markdown",
   "metadata": {},
   "source": [
    "# Dataframes"
   ]
  },
  {
   "cell_type": "code",
   "execution_count": 4,
   "metadata": {},
   "outputs": [],
   "source": [
    "df = pd.read_parquet('data/train.parquet', columns=COLUMNS)\n",
    "df[ERA] = df[ERA].astype('int32')"
   ]
  },
  {
   "cell_type": "markdown",
   "metadata": {},
   "source": [
    "# Compute coefs of linear regression by era"
   ]
  },
  {
   "cell_type": "code",
   "execution_count": 5,
   "metadata": {},
   "outputs": [],
   "source": [
    "def coefs_linreg(df):\n",
    "    model = LinearRegression()\n",
    "    model.fit(df[X_COLS], df[Y_TRUE])\n",
    "    y_prd = pd.Series(model.predict(df[X_COLS]))\n",
    "    y_rnk = y_prd.rank(pct=True)\n",
    "    ncorr = np.corrcoef(df[Y_TRUE], y_rnk)[0, 1]\n",
    "    coefs = {X_COLS[i]: [model.coef_[i]] for i in range(model.n_features_in_)}\n",
    "    coefs[ITC] = [model.intercept_]\n",
    "    coefs['corr'] = [ncorr]\n",
    "    coefs = pd.DataFrame(coefs)\n",
    "    return coefs"
   ]
  },
  {
   "cell_type": "code",
   "execution_count": 6,
   "metadata": {},
   "outputs": [],
   "source": [
    "df_coefs = df.groupby(ERA).apply(coefs_linreg)\n",
    "df_coefs[ERA] = np.arange(len(df_coefs)) + 1"
   ]
  },
  {
   "cell_type": "markdown",
   "metadata": {},
   "source": [
    "# Do a linear regression to predict the coefs as a function of the era"
   ]
  },
  {
   "cell_type": "code",
   "execution_count": 7,
   "metadata": {},
   "outputs": [
    {
     "data": {
      "text/plain": [
       "LinearRegression()"
      ]
     },
     "execution_count": 7,
     "metadata": {},
     "output_type": "execute_result"
    }
   ],
   "source": [
    "X = df_coefs[ERA].to_numpy().reshape(-1, 1)\n",
    "y = df_coefs[COEFS].to_numpy()\n",
    "\n",
    "coef_predictor = LinearRegression()\n",
    "coef_predictor.fit(X, y)"
   ]
  },
  {
   "cell_type": "code",
   "execution_count": 8,
   "metadata": {},
   "outputs": [
    {
     "name": "stderr",
     "output_type": "stream",
     "text": [
      "c:\\Users\\Miguel\\anaconda3\\lib\\site-packages\\pandas\\core\\frame.py:3678: PerformanceWarning: DataFrame is highly fragmented.  This is usually the result of calling `frame.insert` many times, which has poor performance.  Consider joining all columns at once using pd.concat(axis=1) instead.  To get a de-fragmented frame, use `newframe = frame.copy()`\n",
      "  self[col] = igetitem(value, i)\n"
     ]
    }
   ],
   "source": [
    "pred_coefs = ['pred_' + c for c in COEFS]\n",
    "df_coefs[pred_coefs] = coef_predictor.predict(X)"
   ]
  },
  {
   "cell_type": "markdown",
   "metadata": {},
   "source": [
    "# Predict coefficients for current era. Make final predictions"
   ]
  },
  {
   "cell_type": "code",
   "execution_count": 9,
   "metadata": {},
   "outputs": [],
   "source": [
    "coef_predictions = coef_predictor.predict(np.array([[era]]))\n",
    "w = np.array(coef_predictions[0][0:-1])\n",
    "b = coef_predictions[0][-1]"
   ]
  },
  {
   "cell_type": "code",
   "execution_count": 10,
   "metadata": {},
   "outputs": [],
   "source": [
    "df_liv = pd.read_parquet(f'data/live_{round}.parquet', columns=COLUMNS)\n",
    "df_liv[Y_PRED] = df_liv[X_COLS] @ w + b"
   ]
  },
  {
   "cell_type": "markdown",
   "metadata": {},
   "source": [
    "# Plots for coefs as a function of the era"
   ]
  },
  {
   "cell_type": "code",
   "execution_count": 11,
   "metadata": {},
   "outputs": [
    {
     "name": "stderr",
     "output_type": "stream",
     "text": [
      "100%|██████████| 1192/1192 [01:18<00:00, 15.13it/s]\n"
     ]
    }
   ],
   "source": [
    "for c in tqdm(COEFS):\n",
    "    fig, ax = plt.subplots()\n",
    "    ax.plot(df_coefs[ERA], df_coefs[c], label='coefs')\n",
    "    ax.plot(df_coefs[ERA], df_coefs['pred_' + c], label='linreg')\n",
    "    ax.set_xlabel('era')\n",
    "    ax.set_ylabel('coef')\n",
    "    ax.set_title(f'coef for {c} as function of era')\n",
    "    ax.legend()\n",
    "\n",
    "    fig.savefig(f'model-1/figures/{c}.png')\n",
    "    plt.close(fig)"
   ]
  }
 ],
 "metadata": {
  "kernelspec": {
   "display_name": "Python 3.9.7 ('base')",
   "language": "python",
   "name": "python3"
  },
  "language_info": {
   "codemirror_mode": {
    "name": "ipython",
    "version": 3
   },
   "file_extension": ".py",
   "mimetype": "text/x-python",
   "name": "python",
   "nbconvert_exporter": "python",
   "pygments_lexer": "ipython3",
   "version": "3.9.7"
  },
  "orig_nbformat": 4,
  "vscode": {
   "interpreter": {
    "hash": "d202d1b6c0c7975210c24a4862339e0f7f90d66cb89735f264f6c4d5c4350e67"
   }
  }
 },
 "nbformat": 4,
 "nbformat_minor": 2
}
