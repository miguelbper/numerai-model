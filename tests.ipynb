{
 "cells": [
  {
   "cell_type": "code",
   "execution_count": 1,
   "metadata": {},
   "outputs": [],
   "source": [
    "# Numerai API\n",
    "from numerapi import NumerAPI\n",
    "\n",
    "# data\n",
    "import matplotlib.pyplot as plt\n",
    "import pandas as pd\n",
    "import numpy as np\n",
    "\n",
    "# stats\n",
    "from scipy.stats import spearmanr\n",
    "from sklearn.metrics import r2_score, mean_squared_error\n",
    "\n",
    "# machine learning models\n",
    "from sklearn.base import BaseEstimator, RegressorMixin\n",
    "from sklearn.utils.validation import check_X_y, check_array, check_is_fitted\n",
    "from sklearn.linear_model import LinearRegression\n",
    "from sklearn.model_selection import GridSearchCV\n",
    "from xgboost import XGBRegressor\n",
    "from lightgbm import LGBMRegressor\n",
    "\n",
    "# other\n",
    "import gc\n",
    "import json\n",
    "from tqdm import trange\n",
    "from itertools import product\n",
    "import functools\n",
    "import random\n",
    "from timeit import default_timer\n",
    "import re\n",
    "import time\n",
    "from pprint import pprint\n",
    "from copy import deepcopy\n",
    "from varname import nameof\n",
    "from datetime import datetime\n",
    "\n",
    "# save variables\n",
    "import pickle\n",
    "import joblib\n",
    "\n",
    "# my utils\n",
    "from utils import *"
   ]
  },
  {
   "cell_type": "code",
   "execution_count": 2,
   "metadata": {},
   "outputs": [
    {
     "name": "stdout",
     "output_type": "stream",
     "text": [
      "[5, 6, 7]\n"
     ]
    }
   ],
   "source": [
    "# invalid feature indices\n",
    "\n",
    "# for f in INVALID_FEATURES:\n",
    "#     i = FEATURES_L.index(f)\n",
    "#     print(f'i = {i}, f = {f}')\n",
    "\n",
    "l = list(range(10))\n",
    "x = l[5\n",
    "      :8]\n",
    "print(x)"
   ]
  },
  {
   "cell_type": "markdown",
   "metadata": {},
   "source": [
    "For each class:\n",
    "- write code\n",
    "- test that it works alone\n",
    "- test that it works (when chained with previous classes)\n",
    "- test that it works if passed to a GridSearchCV"
   ]
  },
  {
   "cell_type": "code",
   "execution_count": 3,
   "metadata": {},
   "outputs": [],
   "source": [
    "X_COLS = FEATURES_S\n",
    "COLUMNS = [ERA] + X_COLS + Y_COLS\n",
    "Y_ALT = 'target_paul_v4_20'\n",
    "\n",
    "df = pd.read_parquet('data/train.parquet', columns=COLUMNS)\n",
    "df[ERA] = df[ERA].astype('int32')\n",
    "df = df[df[ERA] <= 8]\n",
    "dfnan = df.isna().any()\n",
    "# print(df.dtypes[df.columns[-1]])\n",
    "df[np.isnan(df)] = 0.5\n",
    "\n",
    "params = {\n",
    "    'n_estimators': 2000,\n",
    "    'learning_rate': 0.01,\n",
    "    'max_depth': 5,\n",
    "    'num_leaves': 2**5,\n",
    "    'colsample_bytree': 0.1,\n",
    "    # 'device': 'gpu',\n",
    "}"
   ]
  },
  {
   "cell_type": "code",
   "execution_count": 4,
   "metadata": {},
   "outputs": [],
   "source": [
    "# compute_y_pred\n",
    "model_0 = LGBMRegressor(**params)\n",
    "model_0.fit(df[X_COLS], df[Y_TRUE])\n",
    "y_pred_0 = model_0.predict(df[X_COLS])\n",
    "\n",
    "model_1 = LGBMRegressor(**params)\n",
    "model_1 = FeatureNeutralizer(model_1, n_features=10, alpha=1)\n",
    "model_1.fit(df[X_COLS], df[Y_TRUE])\n",
    "model_1.compute_y_pred(df[X_COLS])\n",
    "y_pred_1 = model_1.y_pred\n",
    "model_1.compute_y_linr(df[X_COLS], df[ERA])\n",
    "y_linr = model_1.y_linr\n",
    "\n",
    "y_neut_0 = model_1.predict(df[X_COLS], df[ERA])\n",
    "y_neut_1 = y_pred_1 - y_linr\n",
    "\n",
    "model_2 = LGBMRegressor(**params)\n",
    "model_2 = FeatureNeutralizer(model_2, n_features=10, alpha=1)\n",
    "model_2.fit(df[X_COLS], df[Y_TRUE])\n",
    "y_neut_2 = model_2.predict(df[X_COLS], df[ERA])"
   ]
  },
  {
   "cell_type": "code",
   "execution_count": 5,
   "metadata": {},
   "outputs": [],
   "source": [
    "X = df[X_COLS]\n",
    "y_pred = y_pred_0\n",
    "groups = np_(df[ERA])\n",
    "\n",
    "df['y_pred'] = y_pred\n",
    "\n",
    "b1 = pd.DataFrame(y_pred)\n",
    "b2 = maybe_rank(b1, groups)\n",
    "b3 = np_(b2)\n",
    "\n",
    "b0 = pd.Series(y_pred)\n",
    "b4 = b0.groupby(groups).apply(lambda x: x.rank(pct=True))\n",
    "\n",
    "b5 = df['y_pred'].groupby(groups).apply(lambda x: x.rank(pct=True))\n",
    "\n",
    "# b = np_(maybe_rank(pd.DataFrame(b), rank_b))\n",
    "\n",
    "exposures = corr(X, y_pred, rank_a=groups, rank_b=groups)\n",
    "riskiest = [(v, i) for i, v in enumerate(exposures)]\n",
    "riskiest = sorted(riskiest, reverse=True)\n",
    "riskiest = riskiest[0:10]\n",
    "riskiest = [i for _, i in riskiest]\n",
    "\n",
    "R = X.to_numpy()[:, riskiest]\n",
    "df_Ry = pd.DataFrame(np.hstack((R, np.atleast_2d(y_pred).T)))\n",
    "X_ = df_Ry[df_Ry.columns[0:-1]]\n",
    "y_ = df_Ry[df_Ry.columns[-1]]\n",
    "model = LinearRegression()\n",
    "model.fit(X_, y_)\n",
    "yp = model.predict(X_)\n",
    "yi = model.intercept_\n",
    "yl = yp - yi"
   ]
  },
  {
   "cell_type": "code",
   "execution_count": 6,
   "metadata": {},
   "outputs": [],
   "source": [
    "# res = df_Ry.groupby(groups).apply(lambda x: x)"
   ]
  },
  {
   "cell_type": "code",
   "execution_count": 7,
   "metadata": {},
   "outputs": [],
   "source": [
    "# Normal LightGBM\n",
    "model_0 = LGBMRegressor(**params)\n",
    "model_0.fit(df[X_COLS], df[Y_TRUE])\n",
    "score_0 = model_0.score(df[X_COLS], df[Y_TRUE])"
   ]
  },
  {
   "cell_type": "code",
   "execution_count": 8,
   "metadata": {},
   "outputs": [],
   "source": [
    "# Neutralize LightGBM, get_params\n",
    "model_1 = LGBMRegressor(**params)\n",
    "model_1 = FeatureNeutralizer(model_1, n_features=0, alpha=1)\n",
    "model_1.get_params()\n",
    "\n",
    "# Neutralize LightGBM, n_features = 0\n",
    "model_1.fit(df[X_COLS], df[Y_TRUE])\n",
    "score_1 = model_1.score(df[X_COLS], df[Y_TRUE], groups=df[ERA])"
   ]
  },
  {
   "cell_type": "code",
   "execution_count": 9,
   "metadata": {},
   "outputs": [],
   "source": [
    "# Neutralize LightGBM, alpha = 0\n",
    "model_2 = LGBMRegressor(**params)\n",
    "model_2 = FeatureNeutralizer(model_2, n_features=10, alpha=0)\n",
    "model_2.fit(df[X_COLS], df[Y_TRUE])\n",
    "score_2 = model_2.score(df[X_COLS], df[Y_TRUE], df[ERA])"
   ]
  },
  {
   "cell_type": "code",
   "execution_count": 10,
   "metadata": {},
   "outputs": [],
   "source": [
    "# Neutralize LightGBM, n_features = 50, alpha = 1\n",
    "model_3 = LGBMRegressor(**params)\n",
    "model_3 = FeatureNeutralizer(model_3, n_features=10, alpha=1)\n",
    "model_3.fit(df[X_COLS], df[Y_TRUE])\n",
    "score_3 = model_3.score(df[X_COLS], df[Y_TRUE], df[ERA])\n",
    "\n",
    "y_pred = model_3.y_pred\n",
    "y_linr = model_3.y_linr\n",
    "y_neut_3a = y_pred - y_linr\n",
    "y_neut_3b = model_3.predict(df[X_COLS], df[ERA])"
   ]
  },
  {
   "cell_type": "code",
   "execution_count": 11,
   "metadata": {},
   "outputs": [
    {
     "name": "stdout",
     "output_type": "stream",
     "text": [
      "0.5929209263008283\n"
     ]
    },
    {
     "data": {
      "text/plain": [
       "[<matplotlib.lines.Line2D at 0x22bdbaedb50>]"
      ]
     },
     "execution_count": 11,
     "metadata": {},
     "output_type": "execute_result"
    },
    {
     "data": {
      "image/png": "[encoded data removed]",
      "text/plain": [
       "<Figure size 432x288 with 1 Axes>"
      ]
     },
     "metadata": {
      "needs_background": "light"
     },
     "output_type": "display_data"
    }
   ],
   "source": [
    "# Neutralize LightGBM, n_features = 50, alpha varying plot\n",
    "al = np.arange(0, 1, 0.01)\n",
    "cr = np.arange(0, 1, 0.01)\n",
    "\n",
    "print(corr(df[Y_TRUE], y_neut_3a, rank_b=df[ERA]))\n",
    "\n",
    "for i in range(len(al)):\n",
    "    model_3.set_params(alpha=al[i])\n",
    "    y_neut = model_3.predict(df[X_COLS], df[ERA])\n",
    "    cr[i] = corr(df[Y_TRUE], y_neut, rank_b=df[ERA])\n",
    "\n",
    "fig, ax = plt.subplots()\n",
    "ax.plot(al, cr)"
   ]
  },
  {
   "cell_type": "code",
   "execution_count": 12,
   "metadata": {},
   "outputs": [],
   "source": [
    "# Neutralize(MultiOutput)\n",
    "model_4 = LGBMRegressor(**params)\n",
    "model_4 = MultiTargetTrainer(model_4, targets=[0])\n",
    "model_4 = FeatureNeutralizer(model_4, n_features=10, alpha=1)\n",
    "model_4.fit(df[X_COLS], df[Y_COLS])\n",
    "score_4 = model_4.score(df[X_COLS], df[Y_TRUE], df[ERA])"
   ]
  },
  {
   "cell_type": "code",
   "execution_count": 13,
   "metadata": {},
   "outputs": [],
   "source": [
    "# Neutralize(MultiOutput(Era(Feature)))\n",
    "model_5 = LGBMRegressor(**params)\n",
    "# model_5 = FeatureSubsampler(model_5, n_features_per_group=0)\n",
    "model_5 = EraSubsampler(model_5, n_subsamples=4)\n",
    "model_5 = MultiTargetTrainer(model_5, targets=[0, 1, 5, 7])\n",
    "model_5 = FeatureNeutralizer(model_5, n_features=10, alpha=0.7)\n",
    "model_5.fit(df[X_COLS], df[Y_COLS], eras=df[ERA])\n",
    "score_5 = model_5.score(df[X_COLS], df[Y_TRUE], df[ERA])"
   ]
  }
 ],
 "metadata": {
  "kernelspec": {
   "display_name": "Python 3.9.7 ('base')",
   "language": "python",
   "name": "python3"
  },
  "language_info": {
   "codemirror_mode": {
    "name": "ipython",
    "version": 3
   },
   "file_extension": ".py",
   "mimetype": "text/x-python",
   "name": "python",
   "nbconvert_exporter": "python",
   "pygments_lexer": "ipython3",
   "version": "3.9.7"
  },
  "orig_nbformat": 4,
  "vscode": {
   "interpreter": {
    "hash": "d202d1b6c0c7975210c24a4862339e0f7f90d66cb89735f264f6c4d5c4350e67"
   }
  }
 },
 "nbformat": 4,
 "nbformat_minor": 2
}
