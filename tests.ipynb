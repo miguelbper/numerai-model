{
 "cells": [
  {
   "cell_type": "code",
   "execution_count": 1,
   "metadata": {},
   "outputs": [],
   "source": [
    "# Numerai API\n",
    "from numerapi import NumerAPI\n",
    "\n",
    "# data\n",
    "import matplotlib.pyplot as plt\n",
    "import pandas as pd\n",
    "import numpy as np\n",
    "\n",
    "# stats\n",
    "from scipy.stats import spearmanr\n",
    "from sklearn.metrics import r2_score, mean_squared_error\n",
    "\n",
    "# machine learning models\n",
    "from sklearn.base import BaseEstimator, RegressorMixin\n",
    "from sklearn.utils.validation import check_X_y, check_array, check_is_fitted\n",
    "from sklearn.linear_model import LinearRegression\n",
    "from sklearn.model_selection import GridSearchCV\n",
    "from xgboost import XGBRegressor\n",
    "from lightgbm import LGBMRegressor\n",
    "\n",
    "# other\n",
    "import gc\n",
    "import json\n",
    "from tqdm import trange\n",
    "from itertools import product\n",
    "import functools\n",
    "import random\n",
    "from timeit import default_timer\n",
    "import re\n",
    "import time\n",
    "from pprint import pprint\n",
    "from copy import deepcopy\n",
    "from varname import nameof\n",
    "from datetime import datetime\n",
    "\n",
    "# save variables\n",
    "import pickle\n",
    "import joblib\n",
    "\n",
    "# my utils\n",
    "from utils import *"
   ]
  },
  {
   "cell_type": "code",
   "execution_count": 2,
   "metadata": {},
   "outputs": [],
   "source": [
    "X_COLS = FEATURES_L\n",
    "COLUMNS = [ERA] + X_COLS + Y_COLS\n",
    "Y_ALT = 'target_paul_v4_20'\n",
    "\n",
    "df = pd.read_parquet('data/train.parquet', columns=COLUMNS)\n",
    "df[ERA] = df[ERA].astype('int32')\n",
    "eras = df[ERA]\n",
    "e0 = eras.min()\n",
    "e1 = eras.max() + 1\n",
    "df = df[df[ERA].isin(np.arange(e0, e1, 4))]\n",
    "dfnan = df.isna().any()\n",
    "# print(df.dtypes[df.columns[-1]])\n",
    "df[np.isnan(df)] = 0.5\n",
    "\n",
    "params_lgbm = {\n",
    "    'n_estimators': 2000,\n",
    "    'learning_rate': 0.01,\n",
    "    'max_depth': 5,\n",
    "    'num_leaves': 2**5,\n",
    "    'colsample_bytree': 0.1,\n",
    "    'device': 'gpu',\n",
    "}\n",
    "\n",
    "params_xgb = {\n",
    "    'n_estimators': 2000,\n",
    "    'learning_rate': 0.01,\n",
    "    'max_depth': 5,\n",
    "    'max_leaves': 2**5,\n",
    "    'colsample_bytree': 0.1,\n",
    "    'gpu_id': 0,\n",
    "    'tree_method': 'gpu_hist',\n",
    "}\n",
    "\n",
    "X = df[X_COLS]\n",
    "y = df[Y_TRUE]"
   ]
  },
  {
   "cell_type": "code",
   "execution_count": null,
   "metadata": {},
   "outputs": [],
   "source": [
    "lgbm = LGBMRegressor(**params_lgbm)\n",
    "\n",
    "t0 = default_timer()\n",
    "lgbm.fit(X, y)\n",
    "t_lgbm_fit = default_timer() - t0\n",
    "\n",
    "t0 = default_timer()\n",
    "y_pred = lgbm.predict(X)\n",
    "t_lgbm_pred = default_timer() - t0"
   ]
  },
  {
   "cell_type": "code",
   "execution_count": null,
   "metadata": {},
   "outputs": [],
   "source": [
    "xgb = XGBRegressor(**params_xgb)\n",
    "\n",
    "t0 = default_timer()\n",
    "xgb.fit(X, y)\n",
    "t_xgb_fit = default_timer() - t0\n",
    "\n",
    "t0 = default_timer()\n",
    "y_pred = xgb.predict(X)\n",
    "t_xgb_pred = default_timer() - t0"
   ]
  },
  {
   "cell_type": "code",
   "execution_count": null,
   "metadata": {},
   "outputs": [],
   "source": [
    "print(t_lgbm_fit)\n",
    "print(t_lgbm_pred)\n",
    "print(t_xgb_fit)\n",
    "print(t_xgb_pred)"
   ]
  },
  {
   "cell_type": "code",
   "execution_count": 3,
   "metadata": {},
   "outputs": [],
   "source": [
    "X = df[X_COLS]\n",
    "y = df[Y_COLS]\n",
    "del df"
   ]
  },
  {
   "cell_type": "code",
   "execution_count": 5,
   "metadata": {},
   "outputs": [],
   "source": [
    "model_8jobs = LGBMRegressor(**params_lgbm)\n",
    "model_8jobs = MultiTargetTrainer(model_8jobs)\n",
    "t0 = default_timer()\n",
    "model_8jobs.fit(X, y)\n",
    "t_8jobs = default_timer() - t0"
   ]
  }
 ],
 "metadata": {
  "kernelspec": {
   "display_name": "Python 3.9.7 ('base')",
   "language": "python",
   "name": "python3"
  },
  "language_info": {
   "codemirror_mode": {
    "name": "ipython",
    "version": 3
   },
   "file_extension": ".py",
   "mimetype": "text/x-python",
   "name": "python",
   "nbconvert_exporter": "python",
   "pygments_lexer": "ipython3",
   "version": "3.9.7"
  },
  "orig_nbformat": 4,
  "vscode": {
   "interpreter": {
    "hash": "d202d1b6c0c7975210c24a4862339e0f7f90d66cb89735f264f6c4d5c4350e67"
   }
  }
 },
 "nbformat": 4,
 "nbformat_minor": 2
}
