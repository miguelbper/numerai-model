{
 "cells": [
  {
   "cell_type": "markdown",
   "metadata": {},
   "source": [
    "# Imports"
   ]
  },
  {
   "cell_type": "code",
   "execution_count": 13,
   "metadata": {},
   "outputs": [],
   "source": [
    "# Numerai API\n",
    "from numerapi import NumerAPI\n",
    "\n",
    "# data\n",
    "import matplotlib.pyplot as plt\n",
    "import pandas as pd\n",
    "import numpy as np\n",
    "\n",
    "# stats\n",
    "from scipy.stats import spearmanr\n",
    "from sklearn.metrics import r2_score, mean_squared_error\n",
    "\n",
    "# machine learning models\n",
    "from sklearn.base import BaseEstimator\n",
    "from sklearn.utils.validation import check_X_y, check_array, check_is_fitted\n",
    "from xgboost import XGBRegressor\n",
    "from lightgbm import LGBMRegressor\n",
    "\n",
    "# other\n",
    "import gc\n",
    "import json\n",
    "from tqdm import trange\n",
    "from copy import deepcopy\n",
    "from datetime import datetime\n",
    "\n",
    "# save variables\n",
    "import joblib\n",
    "\n",
    "# my utils\n",
    "from utils import *"
   ]
  },
  {
   "cell_type": "markdown",
   "metadata": {},
   "source": [
    "# Download data"
   ]
  },
  {
   "cell_type": "code",
   "execution_count": 14,
   "metadata": {},
   "outputs": [
    {
     "name": "stderr",
     "output_type": "stream",
     "text": [
      "2022-08-01 12:50:04,266 INFO numerapi.utils: target file already exists\n",
      "2022-08-01 12:50:04,270 INFO numerapi.utils: download complete\n",
      "2022-08-01 12:50:05,421 INFO numerapi.utils: target file already exists\n",
      "2022-08-01 12:50:05,422 INFO numerapi.utils: download complete\n",
      "2022-08-01 12:50:06,495 INFO numerapi.utils: target file already exists\n",
      "2022-08-01 12:50:06,496 INFO numerapi.utils: download complete\n",
      "2022-08-01 12:50:07,620 INFO numerapi.utils: target file already exists\n",
      "2022-08-01 12:50:07,621 INFO numerapi.utils: download complete\n"
     ]
    }
   ],
   "source": [
    "napi = NumerAPI()\n",
    "round = napi.get_current_round()\n",
    "era = round + 695\n",
    "\n",
    "napi.download_dataset('v4/features.json', '../data/features.json')\n",
    "napi.download_dataset('v4/train_int8.parquet', '../data/train.parquet')\n",
    "napi.download_dataset('v4/validation_int8.parquet', '../data/validation.parquet')\n",
    "napi.download_dataset('v4/live_int8.parquet', f'../data/live_{round}.parquet')"
   ]
  },
  {
   "cell_type": "markdown",
   "metadata": {},
   "source": [
    "# EraSubsampler class"
   ]
  },
  {
   "cell_type": "code",
   "execution_count": 16,
   "metadata": {},
   "outputs": [],
   "source": [
    "class EraSubsampler(BaseEstimator):\n",
    "    def __init__(self, estimator):\n",
    "        self.estimator = estimator\n",
    "\n",
    "    def fit(self, X, y, eras):\n",
    "        X, y = check_X_y(X, y, accept_sparse=True)\n",
    "        e0 = eras.min()\n",
    "        e1 = eras.max() + 1\n",
    "        self.model = [deepcopy(self.estimator) for i in range(4)]\n",
    "        for i in trange(4):\n",
    "            self.model[i].fit(X[eras.isin(np.arange(e0 + i, e1, 4))], \n",
    "                              y[eras.isin(np.arange(e0 + i, e1, 4))])\n",
    "        self.is_fitted_ = True\n",
    "        return self\n",
    "\n",
    "    def predict(self, X):\n",
    "        X = check_array(X, accept_sparse=True)\n",
    "        check_is_fitted(self, 'is_fitted_')\n",
    "        y_pred = 0\n",
    "        for i in trange(4):\n",
    "            y_pred += self.model[i].predict(X)\n",
    "        y_pred /= 4\n",
    "        return y_pred"
   ]
  },
  {
   "cell_type": "markdown",
   "metadata": {},
   "source": [
    "# Utils"
   ]
  },
  {
   "cell_type": "code",
   "execution_count": 18,
   "metadata": {},
   "outputs": [],
   "source": [
    "def rank_pct(x):\n",
    "    return x.rank(pct=True, method='first')\n",
    "\n",
    "def numerai_score(y_true, y_pred, groups=None):\n",
    "    if groups is None:\n",
    "        r_pred = rank_pct(y_pred)\n",
    "    else:\n",
    "        r_pred = y_pred.groupby(groups).apply(rank_pct)\n",
    "    return np.corrcoef(y_true, r_pred)[0, 1]"
   ]
  },
  {
   "cell_type": "markdown",
   "metadata": {},
   "source": [
    "# LGBM with Era Subsampling"
   ]
  },
  {
   "cell_type": "code",
   "execution_count": 19,
   "metadata": {},
   "outputs": [],
   "source": [
    "# define model\n",
    "params = {\n",
    "    'n_estimators': 2000,\n",
    "    'learning_rate': 0.01,\n",
    "    'max_depth': 5,\n",
    "    'num_leaves': 2**5,\n",
    "    'colsample_bytree': 0.1,\n",
    "    'device': 'gpu',\n",
    "}\n",
    "\n",
    "gbm = LGBMRegressor(**params)\n",
    "gbm = EraSubsampler(gbm)"
   ]
  },
  {
   "cell_type": "code",
   "execution_count": 20,
   "metadata": {},
   "outputs": [
    {
     "name": "stderr",
     "output_type": "stream",
     "text": [
      "100%|██████████| 4/4 [06:31<00:00, 97.98s/it] \n",
      "100%|██████████| 4/4 [06:06<00:00, 91.58s/it] \n"
     ]
    }
   ],
   "source": [
    "# training set\n",
    "df_trn = pd.read_parquet('../data/train.parquet')\n",
    "df_trn[ERA] = df_trn[ERA].astype('int32')\n",
    "# df_trn = df_trn[df_trn[ERA] <= 8]\n",
    "\n",
    "gbm.fit(df_trn[X_COLS], df_trn[Y_TRUE], df_trn[ERA])\n",
    "\n",
    "df_trn[Y_PRED] = gbm.predict(df_trn[X_COLS])\n",
    "corr_trn = numerai_score(df_trn[Y_TRUE], df_trn[Y_PRED], df_trn[ERA])\n",
    "del df_trn"
   ]
  },
  {
   "cell_type": "code",
   "execution_count": 21,
   "metadata": {},
   "outputs": [
    {
     "name": "stderr",
     "output_type": "stream",
     "text": [
      "100%|██████████| 4/4 [04:49<00:00, 72.26s/it] \n"
     ]
    }
   ],
   "source": [
    "# validation set\n",
    "df_val = pd.read_parquet('../data/validation.parquet')\n",
    "df_val = df_val[df_val[DATA]=='validation']\n",
    "df_val[ERA] = df_val[ERA].astype('int32')\n",
    "# df_val = df_val[df_val[ERA] <= 575 + 7]\n",
    "\n",
    "df_val[Y_PRED] = gbm.predict(df_val[X_COLS])\n",
    "corr_val = numerai_score(df_val[Y_TRUE], df_val[Y_PRED], df_val[ERA])\n",
    "del df_val"
   ]
  },
  {
   "cell_type": "code",
   "execution_count": 22,
   "metadata": {},
   "outputs": [
    {
     "name": "stderr",
     "output_type": "stream",
     "text": [
      "100%|██████████| 4/4 [00:00<00:00,  6.83it/s]\n"
     ]
    }
   ],
   "source": [
    "# live set\n",
    "df_liv = pd.read_parquet(f'../data/live_{round}.parquet')\n",
    "\n",
    "df_liv[Y_TRUE] = gbm.predict(df_liv[X_COLS])\n",
    "df_liv[Y_RANK] = df_liv[Y_TRUE].rank(pct=True)"
   ]
  },
  {
   "cell_type": "code",
   "execution_count": 23,
   "metadata": {},
   "outputs": [],
   "source": [
    "# save variables\n",
    "now = datetime.now().strftime('%Y%m%d%H%M')\n",
    "name = 'lgbm'\n",
    "joblib.dump(gbm, f'saved-variables/{name}_{now}.pkl')\n",
    "df_liv[Y_RANK].to_csv(f'predictions/{name}_live_predictions_{round}_{now}.csv')"
   ]
  },
  {
   "cell_type": "markdown",
   "metadata": {},
   "source": [
    "# Feature neutralization class"
   ]
  },
  {
   "cell_type": "code",
   "execution_count": null,
   "metadata": {},
   "outputs": [],
   "source": [
    "class Neutralizer(BaseEstimator):\n",
    "    # in this class: X = [era | features]\n",
    "    def __init__(self, estimator, n_features, alpha):\n",
    "        self.estimator = estimator\n",
    "        self.n_features = n_features\n",
    "        self.alpha = alpha\n",
    "\n",
    "    def fit(self, X, y, **fit_params):\n",
    "        X, y = check_X_y(X, y, accept_sparse=True)\n",
    "        X = X[X_COLS]\n",
    "        self.estimator.fit(X, y, **fit_params)\n",
    "        self.is_fitted_ = True\n",
    "        return self\n",
    "\n",
    "    def predict(self, X):\n",
    "        X = check_array(X, accept_sparse=True)\n",
    "        check_is_fitted(self, 'is_fitted_')\n",
    "        eras = X[ERA]\n",
    "        X = X[X_COLS]\n",
    "        y_pred = self.estimator.predict(X)\n",
    "        if self.alpha == 0:\n",
    "            return y_pred\n",
    "        y_linr = 0\n",
    "        y_neut = y_pred - self.alpha * y_linr\n",
    "        return y_neut\n",
    "\n",
    "    def score(self, X, y):\n",
    "        X = check_array(X, accept_sparse=True)\n",
    "        check_is_fitted(self, 'is_fitted_')\n",
    "        return r2_score(y, self.predict(X))"
   ]
  }
 ],
 "metadata": {
  "kernelspec": {
   "display_name": "Python 3.9.7 ('base')",
   "language": "python",
   "name": "python3"
  },
  "language_info": {
   "codemirror_mode": {
    "name": "ipython",
    "version": 3
   },
   "file_extension": ".py",
   "mimetype": "text/x-python",
   "name": "python",
   "nbconvert_exporter": "python",
   "pygments_lexer": "ipython3",
   "version": "3.9.7"
  },
  "orig_nbformat": 4,
  "vscode": {
   "interpreter": {
    "hash": "d202d1b6c0c7975210c24a4862339e0f7f90d66cb89735f264f6c4d5c4350e67"
   }
  }
 },
 "nbformat": 4,
 "nbformat_minor": 2
}
